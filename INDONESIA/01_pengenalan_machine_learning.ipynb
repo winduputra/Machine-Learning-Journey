{
 "cells": [
  {
   "cell_type": "markdown",
   "metadata": {},
   "source": [
    "# 📚 Catatan Belajar Machine Learning\n",
    "## Hari Pertama - 24 September 2025\n",
    "\n",
    "---\n",
    "## 1️⃣ Apa itu Machine Learning?\n",
    "\n",
    "**Konsep Dasar:**  \n",
    "Machine Learning adalah bagian dari kecerdasan buatan (AI) yang melatih komputer untuk belajar dari data dan membuat keputusan, tanpa perlu diprogram secara spesifik untuk setiap skenario. Ini adalah pendekatan di mana alih-alih kita memasukkan logika, kita memasukkan data dan membiarkan algoritma yang menemukan logika atau pola di dalamnya.\n",
    "\n",
    "**Pertanyaan & Jawaban:**\n",
    "- **Q:** Data training bisa dalam bentuk apa?  \n",
    "  **A:** CSV, JSON, database, gambar, audio, dll.\n",
    "- **Q:** Apakah harus masukkan logika agar bisa prediksi?  \n",
    "  **A:** Tidak, model akan menemukan pola sendiri.\n",
    "- **Q:** Storage yang dibutuhkan?  \n",
    "  **A:** Bervariasi, tergantung data & model. Bisa dari KB hingga PB.\n",
    "\n",
    "---\n",
    "## 2️⃣ Jenis-Jenis Machine Learning\n",
    "\n",
    "- **Supervised Learning:** Belajar dari data berlabel (paling mudah).\n",
    "- **Unsupervised Learning:** Belajar dari data tanpa label (lebih menantang).\n",
    "- **Reinforcement Learning:** Belajar dari lingkungan dengan reward & penalty (paling challenging).\n",
    "\n",
    "**Pertanyaan & Jawaban:**\n",
    "- **Q:** Urutan dari mudah → sulit?  \n",
    "  **A:** Supervised → Unsupervised → Reinforcement.\n",
    "- **Q:** Mana paling banyak dipakai?  \n",
    "  **A:** Supervised Learning, karena banyak masalah dunia nyata adalah klasifikasi/prediksi dengan data berlabel.\n",
    "\n",
    "---\n",
    "## 3️⃣ Proses Kerja Machine Learning\n",
    "\n",
    "1. **Pengumpulan Data**\n",
    "2. **Pemrosesan Data** (cleaning & transformasi)\n",
    "3. **Pelatihan Model**\n",
    "4. **Evaluasi Model**\n",
    "5. **Deployment Model**\n",
    "\n",
    "**Pertanyaan & Jawaban:**\n",
    "- **Q:** Apakah selalu sama alurnya?  \n",
    "  **A:** Ya, hanya detail tiap tahap yang berbeda.\n",
    "- **Q:** Pemrosesan data manual atau otomatis?  \n",
    "  **A:** Sebaiknya otomatis (Python, Pandas).\n",
    "- **Q:** Jika prediksi salah?  \n",
    "  **A:** Tambah data, ubah fitur, pilih algoritma lain, tuning parameter.\n",
    "\n",
    "---\n",
    "## 📝 Latihan Soal\n",
    "\n",
    "**Soal 1:** Data untuk prediksi penjualan roti?  \n",
    "**Jawaban:** C - Jumlah roti + cuaca.\n",
    "\n",
    "**Soal 2:** Klaster pelanggan tanpa label?  \n",
    "**Jawaban:** B - Unsupervised Learning.\n",
    "\n",
    "**Soal 3:** Cara memperbaiki model yang buruk?  \n",
    "**Jawaban:** Hindari B - Melatih ulang tanpa perubahan.\n"
   ]
  },
  {
   "cell_type": "markdown",
   "metadata": {},
   "source": [
    "## 💡 Insight Hari Ini\n",
    "\n",
    "- ML bekerja **tanpa kita menulis logika manual** – ini insight penting.\n",
    "- Storage bisa sangat besar, berarti infrastruktur penting.\n",
    "- Supervised Learning adalah pintu masuk termudah.\n",
    "- Proses ML selalu mengikuti pola *data → training → evaluasi → deployment*.\n"
   ]
  },
  {
   "cell_type": "code",
   "execution_count": null,
   "metadata": {},
   "outputs": [],
   "source": [
    "# 🧪 Eksperimen Pertama\n",
    "# Contoh: Import library dasar dan cek versinya\n",
    "import sys\n",
    "import sklearn\n",
    "import tensorflow as tf\n",
    "import pandas as pd\n",
    "\n",
    "print(f'Python version: {sys.version}')\n",
    "print(f'Scikit-Learn version: {sklearn.__version__}')\n",
    "print(f'TensorFlow version: {tf.__version__}')\n",
    "print(f'Pandas version: {pd.__version__}')"
   ]
  }
 ],
 "metadata": {
  "kernelspec": {
   "display_name": "Python 3",
   "language": "python",
   "name": "python3"
  },
  "language_info": {
   "name": "python",
   "version": "3.x"
  }
 },
 "nbformat": 4,
 "nbformat_minor": 5
}
