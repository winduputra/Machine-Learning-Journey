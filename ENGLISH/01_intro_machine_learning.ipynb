{
 "cells": [
  {
   "cell_type": "markdown",
   "metadata": {},
   "source": [
    "# 📚 Machine Learning Study Notes\n",
    "## Day 1 - September 24, 2025\n",
    "\n",
    "---\n",
    "## 1️⃣ What is Machine Learning?\n",
    "\n",
    "**Core Concept:**  \n",
    "Machine Learning is a subfield of Artificial Intelligence (AI) that teaches computers to learn from data and make decisions without being explicitly programmed for every scenario. Instead of hardcoding rules, we feed the system with data and let the algorithm discover the underlying logic or patterns.\n",
    "\n",
    "**Q&A:**\n",
    "- **Q:** In what formats can training data be provided (Excel, JSON, etc.)?  \n",
    "  **A:** Data can be read in various formats such as CSV, JSON, database tables, images, or even audio — depending on the project.\n",
    "- **Q:** Once the system has data, do we still need to hardcode the logic?  \n",
    "  **A:** No. This is the magic of ML — the model learns the patterns automatically.\n",
    "- **Q:** How much storage does ML require?  \n",
    "  **A:** It varies widely. Data storage can range from KB to PB depending on the dataset size, and model storage can range from KB to GB depending on its complexity.\n",
    "\n",
    "---\n",
    "## 2️⃣ Types of Machine Learning\n",
    "\n",
    "- **Supervised Learning:** Learns from labeled data (easiest to start with).\n",
    "- **Unsupervised Learning:** Learns from unlabeled data to discover hidden patterns.\n",
    "- **Reinforcement Learning:** Learns by interacting with an environment through trial and error, receiving rewards or penalties.\n",
    "\n",
    "**Q&A:**\n",
    "- **Q:** Rank them from easiest to most challenging.  \n",
    "  **A:** Supervised → Unsupervised → Reinforcement.\n",
    "- **Q:** Which one is most commonly applied in real-world scenarios?  \n",
    "  **A:** Supervised Learning — because many real-world tasks involve labeled data (classification, prediction).\n",
    "\n",
    "---\n",
    "## 3️⃣ Machine Learning Workflow\n",
    "\n",
    "1. **Data Collection** – Gather raw data.\n",
    "2. **Data Processing** – Clean, transform, and prepare data.\n",
    "3. **Model Training** – Use an algorithm to teach the model.\n",
    "4. **Model Evaluation** – Test with unseen data to check accuracy.\n",
    "5. **Model Deployment** – Put the model into production for users.\n",
    "\n",
    "**Q&A:**\n",
    "- **Q:** Is this process the same for all ML types?  \n",
    "  **A:** Yes, the workflow is similar. The difference is in the details of each step.\n",
    "- **Q:** Can data processing be automated?  \n",
    "  **A:** Yes, it's better to automate it using programming languages like Python with libraries such as Pandas.\n",
    "- **Q:** If predictions are inaccurate, do we need to retrain from scratch?  \n",
    "  **A:** Not necessarily. Possible fixes include adding more data, engineering better features, trying a different algorithm, or tuning hyperparameters before retraining.\n",
    "\n",
    "---\n",
    "## 📝 Practice Questions\n",
    "\n",
    "**Question 1:** In a bakery sales prediction scenario, what is considered \"data\"?  \n",
    "**Answer:** **C** – Both number of breads sold and weather conditions.\n",
    "\n",
    "**Question 2:** Segmenting customers based on purchase history without prior labels — what type of ML is this?  \n",
    "**Answer:** **B** – Unsupervised Learning.\n",
    "\n",
    "**Question 3:** Improving a strawberry harvest prediction model — which is NOT an effective solution?  \n",
    "**Answer:** **B** – Retraining the model with the exact same data without any changes.\n"
   ]
  },
  {
   "cell_type": "markdown",
   "metadata": {},
   "source": [
    "## 💡 Key Insights of the Day\n",
    "\n",
    "- ML does **not require manually coding the logic** — the model learns patterns from data.\n",
    "- Storage needs vary — infrastructure planning is crucial.\n",
    "- Supervised Learning is the easiest entry point for beginners.\n",
    "- The ML process always follows the pattern: *data → training → evaluation → deployment*.\n"
   ]
  },
  {
   "cell_type": "code",
   "execution_count": null,
   "metadata": {},
   "outputs": [],
   "source": [
    "# 🧪 First Experiment\n",
    "# Check basic library versions\n",
    "import sys\n",
    "import sklearn\n",
    "import tensorflow as tf\n",
    "import pandas as pd\n",
    "\n",
    "print(f'Python version: {sys.version}')\n",
    "print(f'Scikit-Learn version: {sklearn.__version__}')\n",
    "print(f'TensorFlow version: {tf.__version__}')\n",
    "print(f'Pandas version: {pd.__version__}')"
   ]
  }
 ],
 "metadata": {
  "kernelspec": {
   "display_name": "Python 3",
   "language": "python",
   "name": "python3"
  },
  "language_info": {
   "name": "python",
   "version": "3.x"
  }
 },
 "nbformat": 4,
 "nbformat_minor": 5
}
